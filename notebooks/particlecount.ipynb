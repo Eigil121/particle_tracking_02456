{
 "cells": [
  {
   "cell_type": "code",
   "execution_count": 11,
   "metadata": {},
   "outputs": [],
   "source": [
    "# Set proper path\n",
    "import os\n",
    "current_dir = os.getcwd()\n",
    "if \"notebooks\" in current_dir:\n",
    "    current_dir = os.chdir(\"../\")\n",
    "\n",
    "from src.models.train_model import load_dataset, load_model\n",
    "import torch\n",
    "import numpy as np"
   ]
  },
  {
   "cell_type": "code",
   "execution_count": 12,
   "metadata": {},
   "outputs": [
    {
     "name": "stdout",
     "output_type": "stream",
     "text": [
      "Model 'Simple_CNN' loaded with architecture 'SimpleCNN'\n"
     ]
    },
    {
     "data": {
      "text/plain": [
       "SimpleCNN(\n",
       "  (conv1): Conv2d(5, 64, kernel_size=(3, 3), stride=(1, 1), padding=(1, 1))\n",
       "  (conv2): Conv2d(64, 128, kernel_size=(3, 3), stride=(1, 1), padding=(1, 1))\n",
       "  (conv3): Conv2d(128, 1, kernel_size=(3, 3), stride=(1, 1), padding=(1, 1))\n",
       "  (activation): Sigmoid()\n",
       ")"
      ]
     },
     "execution_count": 12,
     "metadata": {},
     "output_type": "execute_result"
    }
   ],
   "source": [
    "# Load dataset\n",
    "model = load_model(\"Simple_CNN\", \"SimpleCNN\")\n",
    "model.eval()"
   ]
  },
  {
   "cell_type": "code",
   "execution_count": 16,
   "metadata": {},
   "outputs": [
    {
     "ename": "ValueError",
     "evalue": "not enough values to unpack (expected 3, got 2)",
     "output_type": "error",
     "traceback": [
      "\u001b[1;31m---------------------------------------------------------------------------\u001b[0m",
      "\u001b[1;31mValueError\u001b[0m                                Traceback (most recent call last)",
      "\u001b[1;32mc:\\Users\\eigil\\Desktop\\Great escape\\school\\particle_tracking_02456\\notebooks\\particlecount.ipynb Cell 3\u001b[0m line \u001b[0;36m2\n\u001b[0;32m      <a href='vscode-notebook-cell:/c%3A/Users/eigil/Desktop/Great%20escape/school/particle_tracking_02456/notebooks/particlecount.ipynb#W4sZmlsZQ%3D%3D?line=0'>1</a>\u001b[0m data_loader \u001b[39m=\u001b[39m load_dataset(\u001b[39m2\u001b[39m, \u001b[39m\"\u001b[39m\u001b[39msupervised\u001b[39m\u001b[39m\"\u001b[39m)\n\u001b[1;32m----> <a href='vscode-notebook-cell:/c%3A/Users/eigil/Desktop/Great%20escape/school/particle_tracking_02456/notebooks/particlecount.ipynb#W4sZmlsZQ%3D%3D?line=1'>2</a>\u001b[0m sample_image, sample_mask, image_info \u001b[39m=\u001b[39m \u001b[39mnext\u001b[39m(\u001b[39miter\u001b[39m(data_loader))\n\u001b[0;32m      <a href='vscode-notebook-cell:/c%3A/Users/eigil/Desktop/Great%20escape/school/particle_tracking_02456/notebooks/particlecount.ipynb#W4sZmlsZQ%3D%3D?line=2'>3</a>\u001b[0m prediction \u001b[39m=\u001b[39m model(sample_image)\n\u001b[0;32m      <a href='vscode-notebook-cell:/c%3A/Users/eigil/Desktop/Great%20escape/school/particle_tracking_02456/notebooks/particlecount.ipynb#W4sZmlsZQ%3D%3D?line=4'>5</a>\u001b[0m \u001b[39mwith\u001b[39;00m torch\u001b[39m.\u001b[39mno_grad():\n",
      "\u001b[1;31mValueError\u001b[0m: not enough values to unpack (expected 3, got 2)"
     ]
    }
   ],
   "source": [
    "data_loader = load_dataset(2, \"supervised\")\n",
    "sample_image, sample_mask, image_info = next(iter(data_loader))\n",
    "prediction = model(sample_image)\n",
    "\n",
    "with torch.no_grad():\n",
    "    sample_image = sample_image.clone().detach().to('cpu').numpy()\n",
    "    sample_mask = sample_mask.clone().detach().to('cpu').numpy()\n",
    "    prediction = prediction.clone().detach().to('cpu').numpy()"
   ]
  },
  {
   "cell_type": "code",
   "execution_count": 17,
   "metadata": {},
   "outputs": [
    {
     "data": {
      "text/plain": [
       "(2, 5, 200, 2048)"
      ]
     },
     "execution_count": 17,
     "metadata": {},
     "output_type": "execute_result"
    }
   ],
   "source": [
    "sample_image.shape"
   ]
  },
  {
   "cell_type": "code",
   "execution_count": null,
   "metadata": {},
   "outputs": [],
   "source": []
  }
 ],
 "metadata": {
  "kernelspec": {
   "display_name": "particle_tracking_env",
   "language": "python",
   "name": "python3"
  },
  "language_info": {
   "codemirror_mode": {
    "name": "ipython",
    "version": 3
   },
   "file_extension": ".py",
   "mimetype": "text/x-python",
   "name": "python",
   "nbconvert_exporter": "python",
   "pygments_lexer": "ipython3",
   "version": "3.9.7"
  }
 },
 "nbformat": 4,
 "nbformat_minor": 2
}
