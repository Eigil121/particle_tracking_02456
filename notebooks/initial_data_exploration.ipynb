{
 "cells": [
  {
   "cell_type": "code",
   "execution_count": 3,
   "metadata": {},
   "outputs": [],
   "source": [
    "import imageio\n"
   ]
  },
  {
   "cell_type": "code",
   "execution_count": 4,
   "metadata": {},
   "outputs": [
    {
     "ename": "ValueError",
     "evalue": "Could not load bitmap \"c:\\Users\\eigil\\Desktop\\particle_tracking_02456\\data\\raw\\Camera1.cine\": LibRaw : failed to open input stream (unknown format)",
     "output_type": "error",
     "traceback": [
      "\u001b[1;31m---------------------------------------------------------------------------\u001b[0m",
      "\u001b[1;31mValueError\u001b[0m                                Traceback (most recent call last)",
      "\u001b[1;32mc:\\Users\\eigil\\Desktop\\particle_tracking_02456\\notebooks\\initial_data_exploration.ipynb Cell 2\u001b[0m line \u001b[0;36m7\n\u001b[0;32m      <a href='vscode-notebook-cell:/c%3A/Users/eigil/Desktop/particle_tracking_02456/notebooks/initial_data_exploration.ipynb#W1sZmlsZQ%3D%3D?line=3'>4</a>\u001b[0m cine_file_path \u001b[39m=\u001b[39m \u001b[39m'\u001b[39m\u001b[39m/Users/eigil/Desktop/particle_tracking_02456/data/raw/Camera1.cine\u001b[39m\u001b[39m'\u001b[39m \u001b[39m#'\\Users\\eigil\\Desktop\\particle_tracking_02456\\data\\raw\\camera1.cine'\u001b[39;00m\n\u001b[0;32m      <a href='vscode-notebook-cell:/c%3A/Users/eigil/Desktop/particle_tracking_02456/notebooks/initial_data_exploration.ipynb#W1sZmlsZQ%3D%3D?line=5'>6</a>\u001b[0m \u001b[39m# Read the .cine file\u001b[39;00m\n\u001b[1;32m----> <a href='vscode-notebook-cell:/c%3A/Users/eigil/Desktop/particle_tracking_02456/notebooks/initial_data_exploration.ipynb#W1sZmlsZQ%3D%3D?line=6'>7</a>\u001b[0m video \u001b[39m=\u001b[39m imageio\u001b[39m.\u001b[39;49mget_reader(cine_file_path, \u001b[39m'\u001b[39;49m\u001b[39mcine\u001b[39;49m\u001b[39m'\u001b[39;49m)\n\u001b[0;32m      <a href='vscode-notebook-cell:/c%3A/Users/eigil/Desktop/particle_tracking_02456/notebooks/initial_data_exploration.ipynb#W1sZmlsZQ%3D%3D?line=8'>9</a>\u001b[0m \u001b[39m# Iterate through frames in the video\u001b[39;00m\n\u001b[0;32m     <a href='vscode-notebook-cell:/c%3A/Users/eigil/Desktop/particle_tracking_02456/notebooks/initial_data_exploration.ipynb#W1sZmlsZQ%3D%3D?line=9'>10</a>\u001b[0m \u001b[39mfor\u001b[39;00m frame_number, frame \u001b[39min\u001b[39;00m \u001b[39menumerate\u001b[39m(video):\n\u001b[0;32m     <a href='vscode-notebook-cell:/c%3A/Users/eigil/Desktop/particle_tracking_02456/notebooks/initial_data_exploration.ipynb#W1sZmlsZQ%3D%3D?line=10'>11</a>\u001b[0m     \u001b[39m# 'frame' is a NumPy array representing the image\u001b[39;00m\n\u001b[0;32m     <a href='vscode-notebook-cell:/c%3A/Users/eigil/Desktop/particle_tracking_02456/notebooks/initial_data_exploration.ipynb#W1sZmlsZQ%3D%3D?line=11'>12</a>\u001b[0m     \u001b[39m# You can perform further processing or analysis here\u001b[39;00m\n",
      "File \u001b[1;32mc:\\Users\\eigil\\Desktop\\particle_tracking_02456\\particle_tracking_env\\lib\\site-packages\\imageio\\v2.py:293\u001b[0m, in \u001b[0;36mget_reader\u001b[1;34m(uri, format, mode, **kwargs)\u001b[0m\n\u001b[0;32m    290\u001b[0m image_file \u001b[39m=\u001b[39m imopen(uri, \u001b[39m\"\u001b[39m\u001b[39mr\u001b[39m\u001b[39m\"\u001b[39m \u001b[39m+\u001b[39m mode, \u001b[39m*\u001b[39m\u001b[39m*\u001b[39mimopen_args)\n\u001b[0;32m    292\u001b[0m \u001b[39mif\u001b[39;00m \u001b[39misinstance\u001b[39m(image_file, LegacyPlugin):\n\u001b[1;32m--> 293\u001b[0m     \u001b[39mreturn\u001b[39;00m image_file\u001b[39m.\u001b[39mlegacy_get_reader(\u001b[39m*\u001b[39m\u001b[39m*\u001b[39mkwargs)\n\u001b[0;32m    294\u001b[0m \u001b[39melse\u001b[39;00m:\n\u001b[0;32m    295\u001b[0m     \u001b[39mreturn\u001b[39;00m LegacyReader(image_file, \u001b[39m*\u001b[39m\u001b[39m*\u001b[39mkwargs)\n",
      "File \u001b[1;32mc:\\Users\\eigil\\Desktop\\particle_tracking_02456\\particle_tracking_env\\lib\\site-packages\\imageio\\core\\legacy_plugin_wrapper.py:116\u001b[0m, in \u001b[0;36mLegacyPlugin.legacy_get_reader\u001b[1;34m(self, **kwargs)\u001b[0m\n\u001b[0;32m    113\u001b[0m     \u001b[39mreturn\u001b[39;00m \u001b[39mself\u001b[39m\u001b[39m.\u001b[39m_format\u001b[39m.\u001b[39mget_reader(\u001b[39mself\u001b[39m\u001b[39m.\u001b[39m_request)\n\u001b[0;32m    115\u001b[0m \u001b[39mself\u001b[39m\u001b[39m.\u001b[39m_request\u001b[39m.\u001b[39mget_file()\u001b[39m.\u001b[39mseek(\u001b[39m0\u001b[39m)\n\u001b[1;32m--> 116\u001b[0m \u001b[39mreturn\u001b[39;00m \u001b[39mself\u001b[39;49m\u001b[39m.\u001b[39;49m_format\u001b[39m.\u001b[39;49mget_reader(\u001b[39mself\u001b[39;49m\u001b[39m.\u001b[39;49m_request)\n",
      "File \u001b[1;32mc:\\Users\\eigil\\Desktop\\particle_tracking_02456\\particle_tracking_env\\lib\\site-packages\\imageio\\core\\format.py:221\u001b[0m, in \u001b[0;36mFormat.get_reader\u001b[1;34m(self, request)\u001b[0m\n\u001b[0;32m    217\u001b[0m \u001b[39mif\u001b[39;00m select_mode \u001b[39mnot\u001b[39;00m \u001b[39min\u001b[39;00m \u001b[39mself\u001b[39m\u001b[39m.\u001b[39mmodes:\n\u001b[0;32m    218\u001b[0m     \u001b[39mraise\u001b[39;00m \u001b[39mRuntimeError\u001b[39;00m(\n\u001b[0;32m    219\u001b[0m         \u001b[39mf\u001b[39m\u001b[39m\"\u001b[39m\u001b[39mFormat \u001b[39m\u001b[39m{\u001b[39;00m\u001b[39mself\u001b[39m\u001b[39m.\u001b[39mname\u001b[39m}\u001b[39;00m\u001b[39m cannot read in \u001b[39m\u001b[39m{\u001b[39;00mrequest\u001b[39m.\u001b[39mmode\u001b[39m.\u001b[39mimage_mode\u001b[39m}\u001b[39;00m\u001b[39m mode\u001b[39m\u001b[39m\"\u001b[39m\n\u001b[0;32m    220\u001b[0m     )\n\u001b[1;32m--> 221\u001b[0m \u001b[39mreturn\u001b[39;00m \u001b[39mself\u001b[39;49m\u001b[39m.\u001b[39;49mReader(\u001b[39mself\u001b[39;49m, request)\n",
      "File \u001b[1;32mc:\\Users\\eigil\\Desktop\\particle_tracking_02456\\particle_tracking_env\\lib\\site-packages\\imageio\\core\\format.py:312\u001b[0m, in \u001b[0;36mFormat._BaseReaderWriter.__init__\u001b[1;34m(self, format, request)\u001b[0m\n\u001b[0;32m    310\u001b[0m \u001b[39mself\u001b[39m\u001b[39m.\u001b[39m_request \u001b[39m=\u001b[39m request\n\u001b[0;32m    311\u001b[0m \u001b[39m# Open the reader/writer\u001b[39;00m\n\u001b[1;32m--> 312\u001b[0m \u001b[39mself\u001b[39m\u001b[39m.\u001b[39m_open(\u001b[39m*\u001b[39m\u001b[39m*\u001b[39m\u001b[39mself\u001b[39m\u001b[39m.\u001b[39mrequest\u001b[39m.\u001b[39mkwargs\u001b[39m.\u001b[39mcopy())\n",
      "File \u001b[1;32mc:\\Users\\eigil\\Desktop\\particle_tracking_02456\\particle_tracking_env\\lib\\site-packages\\imageio\\plugins\\freeimage.py:87\u001b[0m, in \u001b[0;36mFreeimageFormat.Reader._open\u001b[1;34m(self, flags)\u001b[0m\n\u001b[0;32m     85\u001b[0m \u001b[39mdef\u001b[39;00m \u001b[39m_open\u001b[39m(\u001b[39mself\u001b[39m, flags\u001b[39m=\u001b[39m\u001b[39m0\u001b[39m):\n\u001b[0;32m     86\u001b[0m     \u001b[39mself\u001b[39m\u001b[39m.\u001b[39m_bm \u001b[39m=\u001b[39m fi\u001b[39m.\u001b[39mcreate_bitmap(\u001b[39mself\u001b[39m\u001b[39m.\u001b[39mrequest\u001b[39m.\u001b[39mfilename, \u001b[39mself\u001b[39m\u001b[39m.\u001b[39mformat\u001b[39m.\u001b[39mfif, flags)\n\u001b[1;32m---> 87\u001b[0m     \u001b[39mself\u001b[39;49m\u001b[39m.\u001b[39;49m_bm\u001b[39m.\u001b[39;49mload_from_filename(\u001b[39mself\u001b[39;49m\u001b[39m.\u001b[39;49mrequest\u001b[39m.\u001b[39;49mget_local_filename())\n",
      "File \u001b[1;32mc:\\Users\\eigil\\Desktop\\particle_tracking_02456\\particle_tracking_env\\lib\\site-packages\\imageio\\plugins\\_freeimage.py:839\u001b[0m, in \u001b[0;36mFIBitmap.load_from_filename\u001b[1;34m(self, filename)\u001b[0m\n\u001b[0;32m    837\u001b[0m \u001b[39m# Check and store\u001b[39;00m\n\u001b[0;32m    838\u001b[0m \u001b[39mif\u001b[39;00m \u001b[39mnot\u001b[39;00m bitmap:  \u001b[39m# pragma: no cover\u001b[39;00m\n\u001b[1;32m--> 839\u001b[0m     \u001b[39mraise\u001b[39;00m \u001b[39mValueError\u001b[39;00m(\n\u001b[0;32m    840\u001b[0m         \u001b[39m'\u001b[39m\u001b[39mCould not load bitmap \u001b[39m\u001b[39m\"\u001b[39m\u001b[39m%s\u001b[39;00m\u001b[39m\"\u001b[39m\u001b[39m: \u001b[39m\u001b[39m%s\u001b[39;00m\u001b[39m'\u001b[39m\n\u001b[0;32m    841\u001b[0m         \u001b[39m%\u001b[39m (\u001b[39mself\u001b[39m\u001b[39m.\u001b[39m_filename, \u001b[39mself\u001b[39m\u001b[39m.\u001b[39m_fi\u001b[39m.\u001b[39m_get_error_message())\n\u001b[0;32m    842\u001b[0m     )\n\u001b[0;32m    843\u001b[0m \u001b[39mself\u001b[39m\u001b[39m.\u001b[39m_set_bitmap(bitmap, (lib\u001b[39m.\u001b[39mFreeImage_Unload, bitmap))\n",
      "\u001b[1;31mValueError\u001b[0m: Could not load bitmap \"c:\\Users\\eigil\\Desktop\\particle_tracking_02456\\data\\raw\\Camera1.cine\": LibRaw : failed to open input stream (unknown format)"
     ]
    }
   ],
   "source": [
    "import imageio\n",
    "\n",
    "# Specify the path to your .cine file\n",
    "cine_file_path = '/Users/eigil/Desktop/particle_tracking_02456/data/raw/Camera1.cine' #'\\Users\\eigil\\Desktop\\particle_tracking_02456\\data\\raw\\camera1.cine'\n",
    "\n",
    "# Read the .cine file\n",
    "video = imageio.get_reader(cine_file_path, 'cine')\n",
    "\n",
    "# Iterate through frames in the video\n",
    "for frame_number, frame in enumerate(video):\n",
    "    # 'frame' is a NumPy array representing the image\n",
    "    # You can perform further processing or analysis here\n",
    "    print(f\"Processing frame {frame_number}\")\n",
    "    break\n",
    "\n",
    "# Close the video reader\n",
    "video.close()\n"
   ]
  },
  {
   "cell_type": "code",
   "execution_count": 7,
   "metadata": {},
   "outputs": [],
   "source": [
    "import os"
   ]
  },
  {
   "cell_type": "code",
   "execution_count": 8,
   "metadata": {},
   "outputs": [
    {
     "data": {
      "text/plain": [
       "['.gitkeep', 'Camera1.cine']"
      ]
     },
     "execution_count": 8,
     "metadata": {},
     "output_type": "execute_result"
    }
   ],
   "source": [
    "os.listdir('/Users/eigil/Desktop/particle_tracking_02456/data/raw/')"
   ]
  },
  {
   "cell_type": "code",
   "execution_count": 10,
   "metadata": {},
   "outputs": [
    {
     "name": "stdout",
     "output_type": "stream",
     "text": [
      "Imageio: 'freeimage-3.18.0-win64.dll' was not found on your computer; downloading it now.\n",
      "Try 1. Download from https://github.com/imageio/imageio-binaries/raw/master/freeimage/FreeImage-3.18.0-win64.dll (6.6 MB)\n",
      "Downloading: 8192/6942208 bytes (0.1%507904/6942208 bytes (7.3%1351680/6942208 bytes (19.5%1941504/6942208 bytes (28.0%2433024/6942208 bytes (35.0%3170304/6942208 bytes (45.7%4079616/6942208 bytes (58.8%4890624/6942208 bytes (70.4%5791744/6942208 bytes (83.4%6791168/6942208 bytes (97.8%6942208/6942208 bytes (100.0%)\n",
      "  Done\n",
      "File saved as C:\\Users\\eigil\\AppData\\Local\\imageio\\freeimage\\freeimage-3.18.0-win64.dll.\n"
     ]
    }
   ],
   "source": [
    "imageio.plugins.freeimage.download()"
   ]
  }
 ],
 "metadata": {
  "kernelspec": {
   "display_name": "particle_tracking_env",
   "language": "python",
   "name": "python3"
  },
  "language_info": {
   "codemirror_mode": {
    "name": "ipython",
    "version": 3
   },
   "file_extension": ".py",
   "mimetype": "text/x-python",
   "name": "python",
   "nbconvert_exporter": "python",
   "pygments_lexer": "ipython3",
   "version": "3.9.7"
  }
 },
 "nbformat": 4,
 "nbformat_minor": 2
}
