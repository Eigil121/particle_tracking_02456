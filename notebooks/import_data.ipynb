{
 "cells": [
  {
   "cell_type": "code",
   "execution_count": 4,
   "metadata": {},
   "outputs": [],
   "source": [
    "import lvpyio as lv\n",
    "import numpy as np\n",
    "import matplotlib.pyplot as plt\n",
    "data_dir = '/home/eigil/DTU/particle_tracking_02456/data/Deep Learning Turbulence Project/ML_project_data/ImgPreproc(no_subtract)/'\n"
   ]
  },
  {
   "cell_type": "code",
   "execution_count": 37,
   "metadata": {},
   "outputs": [],
   "source": [
    "import torch\n",
    "from torch.utils.data import Dataset, DataLoader\n",
    "import glob\n",
    "from torchvision import transforms"
   ]
  },
  {
   "cell_type": "code",
   "execution_count": 40,
   "metadata": {},
   "outputs": [],
   "source": [
    "class CustomDataset(Dataset):\n",
    "    def __init__(self, root, transform=None):\n",
    "        self.root = root\n",
    "        self.transform = transform\n",
    "\n",
    "    def __len__(self):\n",
    "        return len(glob.glob(self.root + '/B*.im7')) - 4 # index by middle image, remove 2 images from start and end\n",
    "\n",
    "    def __getitem__(self, idx):\n",
    "        # Generate your data here\n",
    "        # For example, let's generate a random tensor as data\n",
    "        \n",
    "        image_series = torch.zeros(5, 616, 2048)\n",
    "\n",
    "        # Load images\n",
    "        for i in range(0, 5):\n",
    "            img = lv.read_buffer(data_dir + '/B' + str(idx + i + 1).zfill(5) + '.im7')\n",
    "            img = torch.from_numpy(img[0].as_masked_array().data) # Currently hardcoded to camera 1\n",
    "\n",
    "            image_series[i, :, :] = img\n",
    "\n",
    "        if self.transform:\n",
    "            image_series = self.transform(image_series)\n",
    "\n",
    "        # For simplicity, let's assume all samples have the same label (0 in this case)\n",
    "        #label = 0\n",
    "\n",
    "        return image_series\n"
   ]
  },
  {
   "cell_type": "code",
   "execution_count": 41,
   "metadata": {},
   "outputs": [],
   "source": [
    "dataset = CustomDataset(data_dir)"
   ]
  },
  {
   "cell_type": "code",
   "execution_count": 47,
   "metadata": {},
   "outputs": [],
   "source": [
    "data = dataset.__getitem__(95)"
   ]
  },
  {
   "cell_type": "code",
   "execution_count": 57,
   "metadata": {},
   "outputs": [],
   "source": [
    "upper_lower = (100, 300)\n",
    "\n",
    "cutout_transform = transforms.Lambda(lambda x: x[:, upper_lower[0]:upper_lower[1], :]) \n",
    "\n",
    "# Define a transform if needed\n",
    "transform = transforms.Compose([\n",
    "    cutout_transform\n",
    "])\n",
    "\n",
    "dataset = CustomDataset(data_dir, transform=transform)\n",
    "# Create an instance of your custom dataset\n",
    "#custom_dataset = CustomDataset(num_samples=1000, transform=transform)\n",
    "\n",
    "# Create a DataLoader for your custom dataset\n",
    "custom_dataloader = DataLoader(dataset, batch_size=2, shuffle=True)\n",
    "\n",
    "# Now you can iterate over the dataloader to get batches of generated data\n",
    "#for batch in custom_dataloader:\n",
    "#    generated_data, labels = batch\n",
    "#    # Your training/validation/testing logic goes here\n"
   ]
  },
  {
   "cell_type": "code",
   "execution_count": 50,
   "metadata": {},
   "outputs": [],
   "source": [
    "for batch in custom_dataloader:\n",
    "    break"
   ]
  },
  {
   "cell_type": "code",
   "execution_count": 51,
   "metadata": {},
   "outputs": [
    {
     "data": {
      "text/plain": [
       "torch.Size([2, 5, 200, 2048])"
      ]
     },
     "execution_count": 51,
     "metadata": {},
     "output_type": "execute_result"
    }
   ],
   "source": [
    "batch.shape"
   ]
  },
  {
   "cell_type": "code",
   "execution_count": null,
   "metadata": {},
   "outputs": [],
   "source": [
    "def load_frame(frame_number, camera_number=0):\n",
    "    buffer = lv.read_buffer(data_dir + f\"B{str(frame_number+1).zfill(5)}.im7\")\n",
    "    image = buffer[camera_number].as_masked_array().data\n",
    "    return image"
   ]
  },
  {
   "cell_type": "code",
   "execution_count": 48,
   "metadata": {},
   "outputs": [
    {
     "data": {
      "text/plain": [
       "torch.Size([5, 200, 2048])"
      ]
     },
     "execution_count": 48,
     "metadata": {},
     "output_type": "execute_result"
    }
   ],
   "source": [
    "data.shape"
   ]
  },
  {
   "cell_type": "code",
   "execution_count": 61,
   "metadata": {},
   "outputs": [
    {
     "name": "stdout",
     "output_type": "stream",
     "text": [
      "/home/eigil/DTU/particle_tracking_02456\n"
     ]
    }
   ],
   "source": [
    "import os\n",
    "os.chdir('/home/eigil/DTU/particle_tracking_02456/')\n",
    "print(os.getcwd())\n",
    "import src.data.simulate_dataset"
   ]
  },
  {
   "cell_type": "code",
   "execution_count": null,
   "metadata": {},
   "outputs": [],
   "source": []
  }
 ],
 "metadata": {
  "kernelspec": {
   "display_name": "env",
   "language": "python",
   "name": "python3"
  },
  "language_info": {
   "codemirror_mode": {
    "name": "ipython",
    "version": 3
   },
   "file_extension": ".py",
   "mimetype": "text/x-python",
   "name": "python",
   "nbconvert_exporter": "python",
   "pygments_lexer": "ipython3",
   "version": "3.11.4"
  },
  "orig_nbformat": 4
 },
 "nbformat": 4,
 "nbformat_minor": 2
}
